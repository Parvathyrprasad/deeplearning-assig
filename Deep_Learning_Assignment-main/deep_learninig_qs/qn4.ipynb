{
 "cells": [
  {
   "cell_type": "code",
   "execution_count": null,
   "metadata": {},
   "outputs": [
    {
     "name": "stdout",
     "output_type": "stream",
     "text": [
      "Linear Regression MSE: 24.2911\n",
      "\n",
      "Linear Regression Coefficients:\n",
      "crim: -0.1131\n",
      "zn: 0.0301\n",
      "indus: 0.0404\n",
      "chas: 2.7844\n",
      "nox: -17.2026\n",
      "rm: 4.4388\n",
      "age: -0.0063\n",
      "dis: -1.4479\n",
      "rad: 0.2624\n",
      "tax: -0.0106\n",
      "ptratio: -0.9155\n",
      "b: 0.0124\n",
      "lstat: -0.5086\n",
      "\n",
      "Lasso Regression MSE: 25.1556\n",
      "\n",
      "Lasso Regression Coefficients:\n",
      "crim: -0.1042\n",
      "zn: 0.0349\n",
      "indus: -0.0168\n",
      "chas: 0.9200\n",
      "nox: -0.0000\n",
      "rm: 4.3117\n",
      "age: -0.0151\n",
      "dis: -1.1515\n",
      "rad: 0.2392\n",
      "tax: -0.0130\n",
      "ptratio: -0.7322\n",
      "b: 0.0131\n",
      "lstat: -0.5647\n",
      "\n",
      "Ridge Regression MSE: 24.3010\n",
      "\n",
      "Ridge Regression Coefficients:\n",
      "crim: -0.1124\n",
      "zn: 0.0305\n",
      "indus: 0.0349\n",
      "chas: 2.7503\n",
      "nox: -15.9245\n",
      "rm: 4.4458\n",
      "age: -0.0073\n",
      "dis: -1.4296\n",
      "rad: 0.2600\n",
      "tax: -0.0108\n",
      "ptratio: -0.9008\n",
      "b: 0.0124\n",
      "lstat: -0.5109\n"
     ]
    }
   ],
   "source": [
    "import pandas as pd\n",
    "import numpy as np\n",
    "from sklearn.model_selection import train_test_split\n",
    "from sklearn.linear_model import LinearRegression, Lasso, Ridge\n",
    "from sklearn.metrics import mean_squared_error\n",
    "\n",
    "# Load dataset\n",
    "file_path = \"BostonHousing.csv\"  # Update with your file path\n",
    "df = pd.read_csv(file_path)\n",
    "\n",
    "# Assuming 'Price' is the target variable\n",
    "X = df.drop(columns=['medv'])  # Features\n",
    "y = df['medv']  # Target\n",
    "\n",
    "# Train-validation split (80% train, 20% validation)\n",
    "X_train, X_val, y_train, y_val = train_test_split(X, y, test_size=0.2, random_state=42)\n",
    "\n",
    "### (a) Train Linear Regression\n",
    "linear_model = LinearRegression()\n",
    "linear_model.fit(X_train, y_train)\n",
    "\n",
    "# Predictions\n",
    "y_pred_linear = linear_model.predict(X_val)\n",
    "\n",
    "# Compute MSE\n",
    "mse_linear = mean_squared_error(y_val, y_pred_linear)\n",
    "print(f\"Linear Regression MSE: {mse_linear:.4f}\")\n",
    "\n",
    "# Print feature coefficients\n",
    "print(\"\\nLinear Regression Coefficients:\")\n",
    "for feature, coef in zip(X.columns, linear_model.coef_):\n",
    "    print(f\"{feature}: {coef:.4f}\")\n",
    "\n",
    "### (b) Train Lasso (L1 Regularization)\n",
    "lasso_model = Lasso(alpha=0.1)  # Alpha is the regularization strength\n",
    "lasso_model.fit(X_train, y_train)\n",
    "\n",
    "# Predictions\n",
    "y_pred_lasso = lasso_model.predict(X_val)\n",
    "\n",
    "# Compute MSE\n",
    "mse_lasso = mean_squared_error(y_val, y_pred_lasso)\n",
    "print(f\"\\nLasso Regression MSE: {mse_lasso:.4f}\")\n",
    "\n",
    "# Print feature coefficients\n",
    "print(\"\\nLasso Regression Coefficients:\")\n",
    "for feature, coef in zip(X.columns, lasso_model.coef_):\n",
    "    print(f\"{feature}: {coef:.4f}\")\n",
    "\n",
    "### (c) Train Ridge (L2 Regularization)\n",
    "ridge_model = Ridge(alpha=0.1)\n",
    "ridge_model.fit(X_train, y_train)\n",
    "\n",
    "# Predictions\n",
    "y_pred_ridge = ridge_model.predict(X_val)\n",
    "\n",
    "# Compute MSE\n",
    "mse_ridge = mean_squared_error(y_val, y_pred_ridge)\n",
    "print(f\"\\nRidge Regression MSE: {mse_ridge:.4f}\")\n",
    "\n",
    "# Print feature coefficients\n",
    "print(\"\\nRidge Regression Coefficients:\")\n",
    "for feature, coef in zip(X.columns, ridge_model.coef_):\n",
    "    print(f\"{feature}: {coef:.4f}\")\n"
   ]
  },
  {
   "cell_type": "markdown",
   "metadata": {},
   "source": [
    "### Conclusion Based on Linear, Lasso, and Ridge Regression Results"
   ]
  },
  {
   "cell_type": "markdown",
   "metadata": {},
   "source": [
    "####  Linear Regression (Baseline Model)"
   ]
  },
  {
   "cell_type": "markdown",
   "metadata": {},
   "source": [
    "MSE = 24.2911 (Lowest among all models)\n",
    "\n",
    "No regularization is applied, so it keeps all features with their original influence.\n",
    "\n",
    "Some coefficients have large absolute values (e.g., nox: -17.2026, rm: 4.4388), indicating strong influence.\n",
    "\n",
    "Susceptible to overfitting since it does not penalize complex models."
   ]
  },
  {
   "cell_type": "markdown",
   "metadata": {},
   "source": [
    "#### Lasso Regression (L1 Regularization)"
   ]
  },
  {
   "cell_type": "markdown",
   "metadata": {},
   "source": [
    "MSE = 25.1556 (Slightly higher than Linear Regression)\n",
    "\n",
    "L1 regularization removes some coefficients completely (e.g., nox becomes 0).\n",
    "\n",
    "Helps with feature selection by shrinking some features to exactly zero.\n",
    "\n",
    "Reduces model complexity but may cause underfitting when too many important features are removed."
   ]
  },
  {
   "cell_type": "markdown",
   "metadata": {},
   "source": [
    "### Ridge Regression (L2 Regularization)"
   ]
  },
  {
   "cell_type": "markdown",
   "metadata": {},
   "source": [
    "MSE = 24.3010 (Very close to Linear Regression, slightly higher)\n",
    "\n",
    "L2 regularization shrinks coefficients but does not eliminate them.\n",
    "\n",
    "Helps prevent overfitting while retaining all features in the model.\n",
    "\n",
    "Compared to Lasso, Ridge retains nox but with a smaller magnitude (-15.9245 instead of -17.2026)."
   ]
  }
 ],
 "metadata": {
  "kernelspec": {
   "display_name": "Python 3",
   "language": "python",
   "name": "python3"
  },
  "language_info": {
   "codemirror_mode": {
    "name": "ipython",
    "version": 3
   },
   "file_extension": ".py",
   "mimetype": "text/x-python",
   "name": "python",
   "nbconvert_exporter": "python",
   "pygments_lexer": "ipython3",
   "version": "3.8.20"
  }
 },
 "nbformat": 4,
 "nbformat_minor": 2
}
